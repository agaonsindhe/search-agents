{
  "nbformat": 4,
  "nbformat_minor": 0,
  "metadata": {
    "colab": {
      "provenance": [],
      "authorship_tag": "ABX9TyNUwZ1R4bSK8Hpn5HvBI91V",
      "include_colab_link": true
    },
    "kernelspec": {
      "name": "python3",
      "display_name": "Python 3"
    },
    "language_info": {
      "name": "python"
    }
  },
  "cells": [
    {
      "cell_type": "markdown",
      "metadata": {
        "id": "view-in-github",
        "colab_type": "text"
      },
      "source": [
        "<a href=\"https://colab.research.google.com/github/agaonsindhe/search-agents/blob/main/greedy_best_first_search.ipynb\" target=\"_parent\"><img src=\"https://colab.research.google.com/assets/colab-badge.svg\" alt=\"Open In Colab\"/></a>"
      ]
    },
    {
      "cell_type": "code",
      "execution_count": 20,
      "metadata": {
        "id": "JoSKRJBnqVij"
      },
      "outputs": [],
      "source": [
        "import math\n",
        "from queue import PriorityQueue"
      ]
    },
    {
      "cell_type": "code",
      "source": [
        "#Code Block : Set the matrix for transition & cost (as relevant for the given problem)\n",
        "\n",
        "coordinates = {\n",
        "    \"Panaji\": (15.4909,73.8278),\n",
        "    \"Raichur\": (16.2076,77.3463),\n",
        "    \"Mangalore\": (12.9141,74.8560),\n",
        "    \"Bellari\": (15.1394,76.9214),\n",
        "    \"Tirupathi\": (13.6288, 79.4192),\n",
        "    \"Kurnool\": (15.8281,78.0373),\n",
        "    \"Kozhikode\": (11.2588,75.7804),\n",
        "    \"Bangalore\": (12.9716,77.5946),\n",
        "    \"Nellore\": (14.4426,79.9865),\n",
        "    \"Chennai\":(13.0827,80.2707)\n",
        "}\n",
        "\n",
        "# Assuming hypothetical road connectivity based on geographical proximity and common routes\n",
        "# Define the graph as a dictionary\n",
        "graph = {\n",
        "    \"Panaji\": {\"Mangalore\": 365, \"Bellari\": 375, \"Raichur\": 457},\n",
        "    \"Mangalore\": {\"Panaji\": 365, \"Kozhikode\": 233},\n",
        "    \"Raichur\": {\"Panaji\": 457, \"Kurnool\": 100},\n",
        "    \"Bellari\": {\"Panaji\": 375, \"Tirupathi\": 375, \"Bangalore\": 306},\n",
        "    \"Kozhikode\": {\"Mangalore\": 233, \"Bangalore\": 356},\n",
        "    \"Bangalore\": {\"Kozhikode\": 356, \"Chennai\": 345},\n",
        "    \"Tirupathi\": {\"Bellari\": 375, \"Chennai\": 153, \"Nellore\": 153},\n",
        "    \"Kurnool\": {\"Raichur\": 100, \"Nellore\": 325},\n",
        "    \"Nellore\": {\"Tirupathi\": 153, \"Chennai\": 175, \"Kurnool\": 325},\n",
        "    \"Chennai\": {\"Bangalore\": 345, \"Tirupathi\": 153, \"Nellore\": 175}\n",
        "}\n",
        "\n",
        "# Print the graph to verify its structure\n",
        "graph"
      ],
      "metadata": {
        "colab": {
          "base_uri": "https://localhost:8080/"
        },
        "id": "x9q5EeyurWr5",
        "outputId": "fc7d44a8-b697-4682-d6b1-8a2cd07a4cba"
      },
      "execution_count": 37,
      "outputs": [
        {
          "output_type": "execute_result",
          "data": {
            "text/plain": [
              "{'Panaji': {'Mangalore': 365, 'Bellari': 375, 'Raichur': 457},\n",
              " 'Mangalore': {'Panaji': 365, 'Kozhikode': 233},\n",
              " 'Raichur': {'Panaji': 457, 'Kurnool': 100},\n",
              " 'Bellari': {'Panaji': 375, 'Tirupathi': 375, 'Bangalore': 306},\n",
              " 'Kozhikode': {'Mangalore': 233, 'Bangalore': 356},\n",
              " 'Bangalore': {'Kozhikode': 356, 'Chennai': 345},\n",
              " 'Tirupathi': {'Bellari': 375, 'Chennai': 153, 'Nellore': 153},\n",
              " 'Kurnool': {'Raichur': 100, 'Nellore': 325},\n",
              " 'Nellore': {'Tirupathi': 153, 'Chennai': 175, 'Kurnool': 325},\n",
              " 'Chennai': {'Bangalore': 345, 'Tirupathi': 153, 'Nellore': 175}}"
            ]
          },
          "metadata": {},
          "execution_count": 37
        }
      ]
    },
    {
      "cell_type": "code",
      "source": [
        "#Code Block : Write function to design the Transition Model/Successor function. Ideally this would be called while search algorithms are implemented\n",
        "\n",
        "import math\n",
        "\n",
        "def haversine(latitude1, longitude1, latitude2, longitude2):\n",
        "    lat1, lon1, lat2, lon2 = map(math.radians, [latitude1, longitude1, latitude2, longitude2])\n",
        "    dlon = lon2 - lon1\n",
        "    dlat = lat2 - lat1\n",
        "    a = math.sin(dlat/2)**2 + math.cos(lat1) * math.cos(lat2) * math.sin(dlon/2)**2\n",
        "    c = 2 * math.atan2(math.sqrt(a), math.sqrt(1-a))\n",
        "    distance = 6371 * c\n",
        "    return distance\n",
        "\n",
        "\n",
        "goal_city = \"Chennai\"\n",
        "\n",
        "heuristics = {}\n",
        "for k in coordinates.keys():\n",
        "    distance = haversine(*coordinates[k],*coordinates[goal_city])\n",
        "    heuristics[k]= distance\n",
        "\n",
        "heuristics\n"
      ],
      "metadata": {
        "colab": {
          "base_uri": "https://localhost:8080/"
        },
        "id": "v8H5Q__Jqznq",
        "outputId": "ffdaba35-9412-4f04-90d9-4a61db172e41"
      },
      "execution_count": 39,
      "outputs": [
        {
          "output_type": "execute_result",
          "data": {
            "text/plain": [
              "{'Panaji': 744.0351557019155,\n",
              " 'Raichur': 468.7090788152219,\n",
              " 'Mangalore': 586.9476757845566,\n",
              " 'Bellari': 427.4793247479098,\n",
              " 'Tirupathi': 110.33441493944744,\n",
              " 'Kurnool': 388.599828847867,\n",
              " 'Kozhikode': 528.508520052874,\n",
              " 'Bangalore': 290.1720249530604,\n",
              " 'Nellore': 154.2976211368278,\n",
              " 'Chennai': 0.0}"
            ]
          },
          "metadata": {},
          "execution_count": 39
        }
      ]
    },
    {
      "cell_type": "code",
      "source": [
        "#Code Block : Function for algorithm 1 implementation\n",
        " # Implement Greedy Best First Search Algorithm\n",
        "\n",
        "def greedy_best_first_search(start, goal, cities):\n",
        "    # Calculate heuristic for all cities\n",
        "    # heuristic = {city: haversine(lat, lon, cities[goal][0], cities[goal][1]) for city, (lat, lon) in cities.items()}\n",
        "    heuristic = heuristic_value\n",
        "    print(\"heuristic value is: \", heuristic)\n",
        "    # Initialize the open list with the start city\n",
        "    open_list = [(start, 0)]  # (city, distance from start)\n",
        "    closed_list = set()\n",
        "    parent_map = {start: None}\n",
        "    print(\"Open List is: \", open_list)\n",
        "    print(\"Close List is: \", closed_list)\n",
        "\n",
        "    while open_list:\n",
        "        # Sort the open list based on heuristic distance to the goal, and pop the city with the smallest heuristic\n",
        "        current_city, current_dist = sorted(open_list, key=lambda x: heuristic[x[0]])[0]\n",
        "        open_list.remove((current_city, current_dist))\n",
        "\n",
        "        # Check if the goal is reached\n",
        "        if current_city == goal:\n",
        "            path = []\n",
        "            while current_city:\n",
        "                path.append(current_city)\n",
        "                current_city = parent_map[current_city]\n",
        "            return path[::-1], current_dist\n",
        "\n",
        "        # Move the current city to the closed list\n",
        "        closed_list.add(current_city)\n",
        "        print(\"Open List is: \", open_list)\n",
        "        print(\"Close List is: \", closed_list)\n",
        "        # For each neighbor of the current city, add it to the open list if it's not already in the closed list\n",
        "        # Note: The actual road connections and distances between cities need to be defined for a complete implementation\n",
        "        # This placeholder implementation assumes direct connections and uses the heuristic as the distance for simplicity\n",
        "        for neighbor in cities.keys():\n",
        "            if neighbor not in closed_list and neighbor != current_city:\n",
        "                tentative_dist = current_dist + haversine(cities[current_city][0], cities[current_city][1], cities[neighbor][0], cities[neighbor][1])\n",
        "                if (neighbor not in [o[0] for o in open_list]) or (tentative_dist < [o[1] for o in open_list if o[0] == neighbor][0]):\n",
        "                    open_list.append((neighbor, tentative_dist))\n",
        "                    parent_map[neighbor] = current_city\n",
        "\n",
        "    return [], 0  # Return an empty path and distance if the goal is not reachable"
      ],
      "metadata": {
        "id": "o_IAoLMsrCu_"
      },
      "execution_count": 27,
      "outputs": []
    },
    {
      "cell_type": "code",
      "source": [
        "# Run Greedy Best First Search from Panaji to Chennai\n",
        "path_gbfs = greedy_best_first_search('Panaji', 'Chennai',coordinates)\n",
        "path_gbfs"
      ],
      "metadata": {
        "colab": {
          "base_uri": "https://localhost:8080/"
        },
        "id": "IGD-SCm7rCyX",
        "outputId": "16207834-046e-4d21-bf16-bb30959b5c3d"
      },
      "execution_count": 31,
      "outputs": [
        {
          "output_type": "stream",
          "name": "stdout",
          "text": [
            "heuristic value is:  {'Panaji': 744.0351557019155, 'Raichur': 468.7090788152219, 'Mangalore': 586.9476757845566, 'Bellari': 427.4793247479098, 'Tirupati': 110.33441493944744, 'Kurnool': 388.599828847867, 'Kozhikode': 528.508520052874, 'Bangalore': 290.1720249530604, 'Nellore': 154.2976211368278, 'Chennai': 0.0}\n",
            "Open List is:  [('Panaji', 0)]\n",
            "Close List is:  set()\n",
            "Open List is:  []\n",
            "Close List is:  {'Panaji'}\n"
          ]
        },
        {
          "output_type": "execute_result",
          "data": {
            "text/plain": [
              "(['Panaji', 'Chennai'], 744.0351557019155)"
            ]
          },
          "metadata": {},
          "execution_count": 31
        }
      ]
    },
    {
      "cell_type": "code",
      "source": [
        "# Function to reconstruct the path from the start node to the goal node\n",
        "def reconstruct_path(came_from, start, goal):\n",
        "    \"\"\"\n",
        "    Reconstructs the path from start to goal using the came_from dictionary.\n",
        "\n",
        "    :param came_from: A dictionary containing the parent of each node\n",
        "    :param start: The starting city\n",
        "    :param goal: The goal city\n",
        "    :return: A list of cities representing the path from the start to the goal\n",
        "    \"\"\"\n",
        "    current = goal\n",
        "    path = [current]\n",
        "    while current != start:\n",
        "        current = came_from[current]\n",
        "        path.append(current)\n",
        "    path.reverse()  # reverse the path to get the correct order from start to goal\n",
        "    return path\n",
        "\n",
        "# Example usage:\n",
        "came_from_example = {'Raichur': 'Panaji', 'Kurnool': 'Raichur', 'Chennai': 'Kurnool'}\n",
        "start_city = 'Panaji'\n",
        "goal_city = 'Chennai'\n",
        "reconstructed_path = reconstruct_path(came_from_example, start_city, goal_city)\n",
        "\n",
        "# Function to display the path beautifully\n",
        "def display_path_beautifully(path):\n",
        "    \"\"\"\n",
        "    Displays the path in a structured textual representation.\n",
        "\n",
        "    :param path: A list of cities representing the path from the start to the goal\n",
        "    \"\"\"\n",
        "    for i in range(len(path)):\n",
        "        if i == len(path) - 1:  # if it's the last city, just print the city\n",
        "            print(path[i])\n",
        "        else:  # otherwise, print the city and an arrow\n",
        "            print(f\"{path[i]} -> \", end=\"\")\n",
        "\n",
        "# Display the path\n",
        "display_path_beautifully(reconstructed_path)\n"
      ],
      "metadata": {
        "colab": {
          "base_uri": "https://localhost:8080/"
        },
        "id": "EYI0G8gB_L-2",
        "outputId": "e722abfd-33f7-4059-952e-ed21134ac042"
      },
      "execution_count": 40,
      "outputs": [
        {
          "output_type": "stream",
          "name": "stdout",
          "text": [
            "Panaji -> Raichur -> Kurnool -> Chennai\n"
          ]
        }
      ]
    },
    {
      "cell_type": "code",
      "source": [
        "import heapq\n",
        "\n",
        "# Greedy Best First Search Algorithm\n",
        "def gbfs(graph, start, goal, heuristics):\n",
        "    \"\"\"\n",
        "    Greedy Best First Search Algorithm implementation.\n",
        "\n",
        "    :param graph: The graph as a dictionary of cities and their connected cities with distances\n",
        "    :param start: The starting city\n",
        "    :param goal: The goal city\n",
        "    :param heuristics: A dictionary of heuristic values for each city\n",
        "    :return: The path from start to goal as determined by GBFS\n",
        "    \"\"\"\n",
        "    # Priority queue for the frontier cities, ordered by heuristic value\n",
        "    frontier = []\n",
        "    heuristics[start]\n",
        "    heapq.heappush(frontier, (heuristics[start], start))\n",
        "\n",
        "    # Dictionary to keep track of the path that led to each city\n",
        "    came_from = {start: None}\n",
        "\n",
        "    # The set of explored cities to avoid revisiting them\n",
        "    explored = set()\n",
        "\n",
        "    # GBFS loop\n",
        "    while frontier:\n",
        "        # Choose the city with the lowest heuristic value\n",
        "        _, current_city = heapq.heappop(frontier)\n",
        "\n",
        "        # If the goal is found, reconstruct and return the path\n",
        "        if current_city == goal:\n",
        "            return reconstruct_path(came_from, start, goal)\n",
        "\n",
        "        # Mark the city as explored\n",
        "        explored.add(current_city)\n",
        "\n",
        "        # Add neighboring cities to the frontier if they haven't been explored\n",
        "        for neighbor, distance in graph[current_city].items():\n",
        "            if neighbor not in explored:\n",
        "                heapq.heappush(frontier, (heuristics[neighbor], neighbor))\n",
        "                came_from[neighbor] = current_city\n",
        "\n",
        "    # If the goal was never reached, return None\n",
        "    return None\n",
        "\n",
        "# Define the start and goal cities\n",
        "start_city = 'Panaji'\n",
        "goal_city = 'Chennai'\n",
        "\n",
        "# Implement GBFS\n",
        "path_gbfs = gbfs(graph, start_city, goal_city, heuristics)\n",
        "\n",
        "# Display the path if one was found\n",
        "if path_gbfs:\n",
        "    display_path_beautifully(path_gbfs)\n",
        "else:\n",
        "    print(\"No path found from Panaji to Chennai using GBFS.\")"
      ],
      "metadata": {
        "colab": {
          "base_uri": "https://localhost:8080/"
        },
        "id": "FQZdv25ArC1q",
        "outputId": "a3a8f4f7-2912-4c73-d8b7-c51dd8ac168b"
      },
      "execution_count": 44,
      "outputs": [
        {
          "output_type": "stream",
          "name": "stdout",
          "text": [
            "Panaji -> Bellari -> Tirupathi -> Chennai\n"
          ]
        }
      ]
    }
  ]
}