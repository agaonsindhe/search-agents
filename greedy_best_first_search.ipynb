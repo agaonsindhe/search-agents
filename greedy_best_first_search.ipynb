{
  "nbformat": 4,
  "nbformat_minor": 0,
  "metadata": {
    "colab": {
      "provenance": [],
      "authorship_tag": "ABX9TyMPEkjmxpiFs+ihxJheTNUT",
      "include_colab_link": true
    },
    "kernelspec": {
      "name": "python3",
      "display_name": "Python 3"
    },
    "language_info": {
      "name": "python"
    }
  },
  "cells": [
    {
      "cell_type": "markdown",
      "metadata": {
        "id": "view-in-github",
        "colab_type": "text"
      },
      "source": [
        "<a href=\"https://colab.research.google.com/github/agaonsindhe/search-agents/blob/main/greedy_best_first_search.ipynb\" target=\"_parent\"><img src=\"https://colab.research.google.com/assets/colab-badge.svg\" alt=\"Open In Colab\"/></a>"
      ]
    },
    {
      "cell_type": "code",
      "execution_count": 20,
      "metadata": {
        "id": "JoSKRJBnqVij"
      },
      "outputs": [],
      "source": [
        "import math\n",
        "from queue import PriorityQueue"
      ]
    },
    {
      "cell_type": "code",
      "source": [
        "#Code Block : Set the matrix for transition & cost (as relevant for the given problem)\n",
        "\n",
        "coordinates = {\n",
        "    \"Panaji\": (15.4909,73.8278),\n",
        "    \"Raichur\": (16.2076,77.3463),\n",
        "    \"Mangalore\": (12.9141,74.8560),\n",
        "    \"Bellari\": (15.1394,76.9214),\n",
        "    \"Tirupati\": (13.6288, 79.4192),\n",
        "    \"Kurnool\": (15.8281,78.0373),\n",
        "    \"Kozhikode\": (11.2588,75.7804),\n",
        "    \"Bangalore\": (12.9716,77.5946),\n",
        "    \"Nellore\": (14.4426,79.9865),\n",
        "    \"Chennai\":(13.0827,80.2707)\n",
        "}\n",
        "\n",
        "# Assuming hypothetical road connectivity based on geographical proximity and common routes\n",
        "graph = {\n",
        "    'Panaji': [('Mangalore', 365), ('Raichur', 457)],\n",
        "    'Mangalore': [('Panaji', 365), ('Bangalore', 352), ('Kozhikode', 233)],\n",
        "    'Bangalore': [('Mangalore', 352), ('Kozhikode', 356), ('Bellari', 153), ('Chennai', 346)],\n",
        "    'Kozhikode': [('Mangalore', 233), ('Bangalore', 356)],\n",
        "    'Tirupati': [('Bellari', 379), ('Raichur', 453), ('Chennai', 153)],\n",
        "    'Nellore': [('Kurnool', 325), ('Chennai', 175)],\n",
        "    'Chennai': [('Tirupati', 153), ('Nellore', 175),('Bangalore', 346)],\n",
        "    'Raichur': [('Panaji', 457),('Tirupati', 453),('Kurnool', 100)],\n",
        "    'Bellari': [('Bangalore', 153),('Tirupati', 379)],\n",
        "    'Kurnool': [('Nellore', 325),('Raichur', 100)]\n",
        "}"
      ],
      "metadata": {
        "id": "x9q5EeyurWr5"
      },
      "execution_count": 25,
      "outputs": []
    },
    {
      "cell_type": "code",
      "source": [
        "#Code Block : Write function to design the Transition Model/Successor function. Ideally this would be called while search algorithms are implemented\n",
        "\n",
        "import math\n",
        "\n",
        "def haversine(latitude1, longitude1, latitude2, longitude2):\n",
        "    lat1, lon1, lat2, lon2 = map(math.radians, [latitude1, longitude1, latitude2, longitude2])\n",
        "    dlon = lon2 - lon1\n",
        "    dlat = lat2 - lat1\n",
        "    a = math.sin(dlat/2)**2 + math.cos(lat1) * math.cos(lat2) * math.sin(dlon/2)**2\n",
        "    c = 2 * math.atan2(math.sqrt(a), math.sqrt(1-a))\n",
        "    distance = 6371 * c\n",
        "    return distance\n",
        "\n",
        "\n",
        "goal_city = \"Chennai\"\n",
        "\n",
        "heuristic_value = {}\n",
        "for k in coordinates.keys():\n",
        "    distance = haversine(*coordinates[k],*coordinates[goal_city])\n",
        "    heuristic_value[k]= distance\n",
        "\n",
        "heuristic_value"
      ],
      "metadata": {
        "colab": {
          "base_uri": "https://localhost:8080/"
        },
        "id": "v8H5Q__Jqznq",
        "outputId": "3c4b8c92-bb39-4f95-a450-de0dce5ef4dc"
      },
      "execution_count": 26,
      "outputs": [
        {
          "output_type": "execute_result",
          "data": {
            "text/plain": [
              "{'Panaji': 744.0351557019155,\n",
              " 'Raichur': 468.7090788152219,\n",
              " 'Mangalore': 586.9476757845566,\n",
              " 'Bellari': 427.4793247479098,\n",
              " 'Tirupati': 110.33441493944744,\n",
              " 'Kurnool': 388.599828847867,\n",
              " 'Kozhikode': 528.508520052874,\n",
              " 'Bangalore': 290.1720249530604,\n",
              " 'Nellore': 154.2976211368278,\n",
              " 'Chennai': 0.0}"
            ]
          },
          "metadata": {},
          "execution_count": 26
        }
      ]
    },
    {
      "cell_type": "code",
      "source": [
        "#Code Block : Function for algorithm 1 implementation\n",
        " # Implement Greedy Best First Search Algorithm\n",
        "\n",
        "def greedy_best_first_search(start, goal, cities):\n",
        "    # Calculate heuristic for all cities\n",
        "    # heuristic = {city: haversine(lat, lon, cities[goal][0], cities[goal][1]) for city, (lat, lon) in cities.items()}\n",
        "    heuristic = heuristic_value\n",
        "    print(\"heuristic value is: \", heuristic)\n",
        "    # Initialize the open list with the start city\n",
        "    open_list = [(start, 0)]  # (city, distance from start)\n",
        "    closed_list = set()\n",
        "    parent_map = {start: None}\n",
        "    print(\"Open List is: \", open_list)\n",
        "    print(\"Close List is: \", closed_list)\n",
        "\n",
        "    while open_list:\n",
        "        # Sort the open list based on heuristic distance to the goal, and pop the city with the smallest heuristic\n",
        "        current_city, current_dist = sorted(open_list, key=lambda x: heuristic[x[0]])[0]\n",
        "        open_list.remove((current_city, current_dist))\n",
        "\n",
        "        # Check if the goal is reached\n",
        "        if current_city == goal:\n",
        "            path = []\n",
        "            while current_city:\n",
        "                path.append(current_city)\n",
        "                current_city = parent_map[current_city]\n",
        "            return path[::-1], current_dist\n",
        "\n",
        "        # Move the current city to the closed list\n",
        "        closed_list.add(current_city)\n",
        "        print(\"Open List is: \", open_list)\n",
        "        print(\"Close List is: \", closed_list)\n",
        "        # For each neighbor of the current city, add it to the open list if it's not already in the closed list\n",
        "        # Note: The actual road connections and distances between cities need to be defined for a complete implementation\n",
        "        # This placeholder implementation assumes direct connections and uses the heuristic as the distance for simplicity\n",
        "        for neighbor in cities.keys():\n",
        "            if neighbor not in closed_list and neighbor != current_city:\n",
        "                tentative_dist = current_dist + haversine(cities[current_city][0], cities[current_city][1], cities[neighbor][0], cities[neighbor][1])\n",
        "                if (neighbor not in [o[0] for o in open_list]) or (tentative_dist < [o[1] for o in open_list if o[0] == neighbor][0]):\n",
        "                    open_list.append((neighbor, tentative_dist))\n",
        "                    parent_map[neighbor] = current_city\n",
        "\n",
        "    return [], 0  # Return an empty path and distance if the goal is not reachable"
      ],
      "metadata": {
        "id": "o_IAoLMsrCu_"
      },
      "execution_count": 27,
      "outputs": []
    },
    {
      "cell_type": "code",
      "source": [
        "# Run Greedy Best First Search from Panaji to Chennai\n",
        "path_gbfs = greedy_best_first_search('Panaji', 'Chennai',coordinates)\n",
        "path_gbfs"
      ],
      "metadata": {
        "colab": {
          "base_uri": "https://localhost:8080/"
        },
        "id": "IGD-SCm7rCyX",
        "outputId": "3fd87ca6-cda8-46e3-a6a9-fd12c048321c"
      },
      "execution_count": 29,
      "outputs": [
        {
          "output_type": "stream",
          "name": "stdout",
          "text": [
            "heuristic value is:  {'Panaji': 744.0351557019155, 'Raichur': 468.7090788152219, 'Mangalore': 586.9476757845566, 'Bellari': 427.4793247479098, 'Tirupati': 110.33441493944744, 'Kurnool': 388.599828847867, 'Kozhikode': 528.508520052874, 'Bangalore': 290.1720249530604, 'Nellore': 154.2976211368278, 'Chennai': 0.0}\n",
            "Open List is:  [('Panaji', 0)]\n",
            "Close List is:  set()\n",
            "Open List is:  []\n",
            "Close List is:  {'Panaji'}\n"
          ]
        },
        {
          "output_type": "execute_result",
          "data": {
            "text/plain": [
              "(['Panaji', 'Chennai'], 744.0351557019155)"
            ]
          },
          "metadata": {},
          "execution_count": 29
        }
      ]
    },
    {
      "cell_type": "code",
      "source": [],
      "metadata": {
        "id": "FQZdv25ArC1q"
      },
      "execution_count": null,
      "outputs": []
    }
  ]
}