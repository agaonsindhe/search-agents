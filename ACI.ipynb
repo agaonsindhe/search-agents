{
  "cells": [
    {
      "cell_type": "markdown",
      "metadata": {
        "colab_type": "text",
        "id": "view-in-github"
      },
      "source": [
        "<a href=\"https://colab.research.google.com/github/agaonsindhe/search-agents/blob/main/ACI_Assignment_1_SolutionTemplate.ipynb\" target=\"_parent\"><img src=\"https://colab.research.google.com/assets/colab-badge.svg\" alt=\"Open In Colab\"/></a>"
      ]
    },
    {
      "cell_type": "markdown",
      "metadata": {
        "id": "MzZ4dJQYF7sH"
      },
      "source": [
        "# Artificial and Computational Intelligence Assignment 1"
      ]
    },
    {
      "cell_type": "markdown",
      "metadata": {
        "id": "Fxb1aE9zF7sK"
      },
      "source": [
        "## Problem solving by Uninformed & Informed Search"
      ]
    },
    {
      "cell_type": "markdown",
      "metadata": {
        "id": "h35jIBbCF7sK"
      },
      "source": [
        "List only the BITS (Name) of active contributors in this assignment:\n",
        "1. Anshuman Gaonsindhe - 2023ab05150\n",
        "2. Amit Kumar - 2023aa05262\n",
        "3. Karamveer Singh - 2023aa05649\n",
        "4. Vishal Pankaj - 2023aa05260 \n",
        "5. Ravi Sharma - 2023aa05622"
      ]
    },
    {
      "cell_type": "markdown",
      "metadata": {
        "id": "pt5ygv_zF7sL"
      },
      "source": [
        "Things to follow\n",
        "1.\tUse appropriate data structures to represent the graph and the path using python libraries\n",
        "2.\tProvide proper documentation\n",
        "3.\tFind the path and print it"
      ]
    },
    {
      "cell_type": "markdown",
      "metadata": {
        "id": "wZfop5ElF7sL"
      },
      "source": [
        "Coding begins here"
      ]
    },
    {
      "cell_type": "markdown",
      "metadata": {
        "id": "IL0QDMy3F7sL"
      },
      "source": [
        "### 1.\tDefine the environment in the following block"
      ]
    },
    {
      "cell_type": "markdown",
      "metadata": {
        "id": "RYwJPNLIF7sM"
      },
      "source": [
        "List the PEAS decription of the problem here in this markdown block"
      ]
    },
    {
      "cell_type": "markdown",
      "metadata": {
        "id": "XJ3cHp1IF7sM"
      },
      "source": [
        "Design the agent as PSA Agent(Problem Solving Agent)\n",
        "Clear Initial data structures to define the graph and variable declarations is expected\n",
        "IMPORTATANT: Write distinct code block as below"
      ]
    },
    {
      "cell_type": "code",
      "execution_count": 1,
      "metadata": {
        "id": "osp61RsLF7sN",
        "outputId": "c79bd312-a1d0-45a2-8c50-5ded66c63872",
        "scrolled": true
      },
      "outputs": [],
      "source": [
        "#Code Block : Set Initial State (Must handle dynamic inputs)\n",
        "import math\n",
        "from queue import PriorityQueue\n",
        "\n",
        "# List of cities based on the given problem\n",
        "cities_list = [\"Panaji\", \"Raichur\", \"Mangalore\", \"Bellari\", \"Tirupathi\", \"Kurnool\", \"Kozhikode\", \"Bangalore\", \"Nellore\", \"Chennai\"]\n",
        "\n",
        "#Cities info with latitude and longitude\n",
        "cities_info = {\n",
        "    \"Panaji\": (15.4909,73.8278),\n",
        "    \"Raichur\": (16.2076,77.3463),\n",
        "    \"Mangalore\": (12.9141,74.8560),\n",
        "    \"Bellari\": (15.1394,76.9214),\n",
        "    \"Tirupathi\": (13.6288, 79.4192),\n",
        "    \"Kurnool\": (15.8281,78.0373),\n",
        "    \"Kozhikode\": (11.2588,75.7804),\n",
        "    \"Bangalore\": (12.9716,77.5946),\n",
        "    \"Nellore\": (14.4426,79.9865),\n",
        "    \"Chennai\":(13.0827,80.2707)\n",
        "}\n",
        "\n",
        "# Map of cities with their successor cities.\n",
        "graph = {\n",
        "    \"Panaji\": {\"Mangalore\": 365 , \"Raichur\": 457},\n",
        "    \"Mangalore\": {\"Panaji\": 365, \"Bangalore\": 352, \"Kozhikode\": 233},\n",
        "    \"Bangalore\": {\"Mangalore\": 352, \"Kozhikode\": 356, \"Bellari\": 153, \"Chennai\": 346},\n",
        "    \"Kozhikode\": {\"Mangalore\": 233, \"Bangalore\": 356},\n",
        "    \"Tirupathi\": {\"Bellari\": 379, \"Raichur\": 453, \"Chennai\": 153},\n",
        "    \"Nellore\": {\"Kurnool\": 325, \"Chennai\": 175},\n",
        "    \"Chennai\": {\"Tirupathi\": 153, \"Nellore\": 175,\"Bangalore\": 346},\n",
        "    \"Raichur\": {\"Panaji\": 457,\"Tirupathi\": 453,\"Kurnool\": 100},\n",
        "    \"Bellari\": {\"Bangalore\": 153,\"Tirupathi\": 379},\n",
        "    \"Kurnool\": {\"Nellore\": 325,\"Raichur\": 100}\n",
        "}\n",
        "\n",
        "# Distances between cities as provided in the graph\n",
        "distances = {\n",
        "    ('Panaji', 'Mangalore'): 365,\n",
        "    ('Mangalore', 'Panaji'): 365,\n",
        "    ('Panaji', 'Raichur'): 457,\n",
        "    ('Raichur', 'Panaji'): 457,\n",
        "    ('Raichur', 'Tirupathi'): 453,\n",
        "    ('Tirupathi', 'Raichur'): 453,\n",
        "    ('Raichur', 'Kurnool'): 100,\n",
        "    ('Kurnool', 'Raichur'): 100,\n",
        "    ('Mangalore', 'Kozhikode'): 233,\n",
        "    ('Kozhikode', 'Mangalore'): 233,\n",
        "    ('Mangalore', 'Bangalore'): 352,\n",
        "    ('Bangalore', 'Mangalore'): 352,\n",
        "    ('Kozhikode', 'Bangalore'): 356,\n",
        "    ('Bangalore', 'Kozhikode'): 356,\n",
        "    ('Bangalore', 'Chennai'): 346,\n",
        "    ('Chennai', 'Bangalore'): 346,\n",
        "    ('Bangalore', 'Bellari'): 153,\n",
        "    ('Bellari', 'Bangalore'): 153,\n",
        "    ('Bellari', 'Tirupathi'): 379,\n",
        "    ('Tirupathi', 'Bellari'): 379,\n",
        "    ('Tirupathi', 'Chennai'): 153,\n",
        "    ('Chennai', 'Tirupathi'): 153,\n",
        "    ('Kurnool', 'Nellore'): 325,\n",
        "    ('Nellore', 'Kurnool'): 325,\n",
        "    ('Nellore', 'Chennai'): 175,\n",
        "    ('Chennai', 'Nellore'): 175\n",
        "}\n",
        "\n",
        "# Function to set start and goal city, with dynamic input.\n",
        "def set_initial_state(start_city=None, end_city=None):\n",
        "    \"\"\"\n",
        "    Sets the initial state for the traveling problem with dynamic inputs.\n",
        "\n",
        "    :param start_city: The starting city for the travel.\n",
        "    :param end_city: The destination city for the travel.\n",
        "    :return: A dictionary representing the initial state of the problem.\n",
        "    \"\"\"\n",
        "    initial_state = {\n",
        "        'start_city': start_city,\n",
        "        'end_city': end_city,\n",
        "    }\n",
        "\n",
        "    return initial_state\n",
        "\n",
        "\n",
        "import random\n",
        "# Function to calculate valid path for initial population.\n",
        "def generate_valid_path(start_city, goal_city, graph):\n",
        "    \"\"\"\n",
        "    Generate a valid path from start to city to goal city based on map connections.\n",
        "    \n",
        "    :param start_city: The starting city for the path.\n",
        "    :param goal_city: The goal city for the path.\n",
        "    :param graph: A dictionary or similar structure representing valid connections between cities.\n",
        "    :return: A list representing a valid path.\n",
        "    \"\"\"\n",
        "    path = [start_city]\n",
        "    current_city = start_city\n",
        "    while current_city != goal_city:\n",
        "        # Get valid next steps from current city\n",
        "        next_cities = [city for city in graph[current_city] if city not in path]\n",
        "        if not next_cities:  # No valid next city.\n",
        "            break\n",
        "        next_city = random.choice(next_cities)\n",
        "        path.append(next_city)\n",
        "        current_city = next_city\n",
        "    return path\n",
        "\n",
        "# Function to create the initial state for ga: a population of paths\n",
        "def set_initial_state_for_ga(start, end, cities, population_size):\n",
        "    # Initialize the population with random valid paths\n",
        "    population = []\n",
        "    for _ in range(population_size):\n",
        "        path = generate_valid_path(start, end, cities)\n",
        "        population.append(path)\n",
        "    return population\n",
        "\n",
        "# Example usage\n",
        "# initial_state = set_initial_state(start_city='Panaji', end_city='Chennai')\n",
        "# print(initial_state)\n"
      ]
    },
    {
      "cell_type": "code",
      "execution_count": 2,
      "metadata": {
        "id": "XODwoWZ0F7sO",
        "outputId": "bcd39fb5-4779-4743-b07e-258e10c498e9"
      },
      "outputs": [],
      "source": [
        "#Code Block : Set the matrix for transition & cost (as relevant for the given problem)\n",
        "\n",
        "import math\n",
        "\n",
        "# Funnction calculating distance based on latitude and logitude in kms.\n",
        "def haversine(lat1, lon1, lat2, lon2):\n",
        "    \"\"\"\n",
        "    Calculate the great circle distance in kilometers between two points\n",
        "    on the earth (specified in decimal degrees)\n",
        "    \"\"\"\n",
        "    # Convert decimal degrees to radians\n",
        "    lat1, lon1, lat2, lon2 = map(math.radians, [lat1, lon1, lat2, lon2])\n",
        "\n",
        "    # Haversine formula\n",
        "    dlon = lon2 - lon1\n",
        "    dlat = lat2 - lat1\n",
        "    a = math.sin(dlat/2)**2 + math.cos(lat1) * math.cos(lat2) * math.sin(dlon/2)**2\n",
        "    c = 2 * math.asin(math.sqrt(a))\n",
        "    r = 6371 # Radius of earth in kilometers.\n",
        "    return c * r\n",
        "\n",
        "# Function to calculate cost matrix of each city.\n",
        "def set_transition_and_cost_matrix(cities_info):\n",
        "    \"\"\"\n",
        "    Initializes a matrix/dictionary representing the graph of cities with the cost of travel between them.\n",
        "\n",
        "    :param cities_info: A dictionary with city names as keys and their lat, long as values.\n",
        "    :return: A dictionary of dictionaries representing the distances between cities.\n",
        "    \"\"\"\n",
        "    matrix = {}\n",
        "    for city, (lat1, lon1) in cities_info.items():\n",
        "        matrix[city] = {}\n",
        "        for destination, (lat2, lon2) in cities_info.items():\n",
        "            if city != destination: # Avoid distance to itself\n",
        "                distance = haversine(lat1, lon1, lat2, lon2)\n",
        "                matrix[city][destination] = distance\n",
        "    return matrix\n",
        "\n",
        "# Function calculating heuristic value from all the nodes to the goal city city node.\n",
        "def get_heuristics(goal_city):\n",
        "    heuristics = {}\n",
        "    for k in cities_info.keys():\n",
        "        distance = haversine(*cities_info[k],*cities_info[goal_city])\n",
        "        heuristics[k]= distance\n",
        "    return heuristics\n",
        "\n",
        "def calculate_total_distance(path, distances):\n",
        "    \"\"\"\n",
        "    Calculate the total distance of the given path based on the road distances.\n",
        "    \n",
        "    :param path: A list of tuples representing the path (e.g., [('City1', 'City2'), ('City2', 'City3'), ...]).\n",
        "    :param distances: A dictionary with city tuples as keys and distances as values.\n",
        "    :return: The total distance of the path.\n",
        "    \"\"\"\n",
        "    total_distance = 0\n",
        "    for i in range(len(path) - 1):\n",
        "        city_pair = (path[i], path[i+1])\n",
        "        total_distance += distances.get(city_pair, 0)\n",
        "    return total_distance\n",
        "\n",
        "def fitness_function(path, distances):\n",
        "    total_distance = calculate_total_distance(path, distances)\n",
        "    if total_distance <= 0:\n",
        "        return 0 \n",
        "    return 1 / total_distance\n",
        "\n",
        "# transition_cost_matrix = set_transition_and_cost_matrix(cities_info)\n",
        "\n",
        "# import pandas as pd\n",
        "# # Convert to DataFrame for pretty printing\n",
        "# matrix_df = pd.DataFrame(transition_cost_matrix)\n",
        "\n",
        "# # Fill diagonal with 0s for clarity (no distance to itself)\n",
        "# for city in cities_info:\n",
        "#     if city in matrix_df.index:\n",
        "#         matrix_df.loc[city, city] = 0\n",
        "\n",
        "# matrix_df_reordered = matrix_df.reindex(index=cities_info, columns=cities_info)\n",
        "\n",
        "# matrix_df_reordered\n",
        "\n",
        "# her = get_heuristics(\"Chennai\")\n",
        "\n",
        "# print(matrix_df_reordered,\" \",get_heuristics(\"Chennai\"))\n"
      ]
    },
    {
      "cell_type": "markdown",
      "metadata": {},
      "source": [
        "<h2> Supporting Functions </h2>"
      ]
    },
    {
      "cell_type": "code",
      "execution_count": 3,
      "metadata": {
        "id": "ji4euP2gzi1-",
        "outputId": "a161712b-2733-426e-c8c0-f2e43b3aa8e9"
      },
      "outputs": [],
      "source": [
        "# Function to reconstruct the path from the start node to the goal node\n",
        "\n",
        "# Function to keep track of path visited.\n",
        "def reconstruct_path(came_from, start, goal):\n",
        "    \"\"\"\n",
        "    Reconstructs the path from start to goal using the came_from dictionary.\n",
        "\n",
        "    :param came_from: A dictionary containing the parent of each node\n",
        "    :param start: The starting city\n",
        "    :param goal: The goal city\n",
        "    :return: A list of cities representing the path from the start to the goal\n",
        "    \"\"\"\n",
        "    current = goal\n",
        "    path = [current]\n",
        "    while current != start:\n",
        "        current = came_from[current]\n",
        "        path.append(current)\n",
        "    path.reverse()  # reverse the path to get the correct order from start to goal\n",
        "    return path\n",
        "\n",
        "# Example usage:\n",
        "# came_from_example = {'Raichur': 'Panaji', 'Kurnool': 'Raichur', 'Chennai': 'Kurnool'}\n",
        "# start_city = 'Panaji'\n",
        "# goal_city = 'Chennai'\n",
        "# reconstructed_path = reconstruct_path(came_from_example, start_city, goal_city)\n",
        "\n",
        "# Function to display the path beautifully\n",
        "def display_path_beautifully(path):\n",
        "    \"\"\"\n",
        "    Displays the path in a structured textual representation.\n",
        "\n",
        "    :param path: A list of cities representing the path from the start to the goal\n",
        "    \"\"\"\n",
        "    for i in range(len(path)):\n",
        "        if i == len(path) - 1:  # if it's the last city, just print the city\n",
        "            print(path[i])\n",
        "        else:  # otherwise, print the city and an arrow\n",
        "            print(f\"{path[i]} -> \", end=\"\")\n",
        "\n",
        "def is_path_valid(path, graph):\n",
        "    for i in range(len(path) - 1):\n",
        "        if path[i+1] not in graph[path[i]]:\n",
        "            return False\n",
        "    return True\n",
        "\n",
        "def repair_path(path, start_city, goal_city, graph):\n",
        "    repaired_path = [start_city]\n",
        "    for current_city in path:\n",
        "        if repaired_path[-1] == goal_city:\n",
        "            break\n",
        "        next_cities = graph.get(repaired_path[-1], [])\n",
        "        if current_city in next_cities:\n",
        "            repaired_path.append(current_city)\n",
        "        else:\n",
        "            # Find a valid next city that is not already in the repaired_path\n",
        "            for possible_next in next_cities:\n",
        "                if possible_next not in repaired_path:\n",
        "                    repaired_path.append(possible_next)\n",
        "                    break\n",
        "    if repaired_path[-1] != goal_city:\n",
        "        repaired_path.append(goal_city)  # Ensure the path ends at the goal city\n",
        "    return repaired_path\n",
        "\n",
        "# Display the path\n",
        "# display_path_beautifully(reconstructed_path)"
      ]
    },
    {
      "cell_type": "code",
      "execution_count": 4,
      "metadata": {
        "id": "ro24Gaj7F7sO",
        "outputId": "f1171dc8-924c-4540-f4f9-72322918dd56"
      },
      "outputs": [],
      "source": [
        "#Code Block : Write function to design the Transition Model/Successor function. Ideally this would be called while search algorithms are implemented\n",
        "\n",
        "# State change function\n",
        "def transition_model(current_city, graph):\n",
        "    \"\"\"\n",
        "    Returns the successor states from the current city, along with the cost to reach each successor.\n",
        "\n",
        "    :param current_city: The current city (state).\n",
        "    :param graph: A dictionary representing the graph of cities, where keys are city names, and values are dictionaries\n",
        "                  of neighboring cities and the distances to them.\n",
        "    :return: A list of tuples, where each tuple contains a successor city and the cost to reach it.\n",
        "    \"\"\"\n",
        "    successors = []\n",
        "    if current_city in graph:\n",
        "        for neighbor, cost in graph[current_city].items():\n",
        "            successors.append((neighbor, cost))\n",
        "    return successors\n",
        "\n",
        "# Transition Model for Genetic Algorithm consist of Selection of Parents, CrossOver and Mutation of child.\n",
        "\n",
        "# Function to select parents from population based their fitness score.\n",
        "def selection(population, fitness_scores, selection_size):\n",
        "    # Normalize fitness scores to use as probabilities for selection\n",
        "    total_fitness = sum(fitness_scores)\n",
        "    \n",
        "    # Ensure total fitness is greater than zero and is finite\n",
        "    if total_fitness <= 0 or not math.isfinite(total_fitness):\n",
        "        raise ValueError(\"Invalid total fitness score: Must be greater than zero and finite.\")\n",
        "    \n",
        "    selection_probabilities = [score / total_fitness for score in fitness_scores]\n",
        "    \n",
        "    # Select individuals based on their normalized fitness scores\n",
        "    selected_indices = random.choices(\n",
        "        range(len(population)), \n",
        "        weights=selection_probabilities, \n",
        "        k=selection_size\n",
        "    )\n",
        "    \n",
        "    # Create a new list containing the selected individuals\n",
        "    selected_population = [population[i] for i in selected_indices]\n",
        "    return selected_population\n",
        "\n",
        "#Function to generate the offspring/child from selected parents.\n",
        "def crossover(parent1, parent2, cities):\n",
        "    # Ensure paths are long enough for crossover\n",
        "    min_length = min(len(parent1), len(parent2))\n",
        "    if min_length <= 3:\n",
        "        # If paths are too short, return them as is or handle differently\n",
        "        return parent1, parent2\n",
        "\n",
        "    # Proceed with crossover\n",
        "    crossover_point = random.randint(1, min_length - 2)\n",
        "    offspring1 = parent1[:crossover_point] + parent2[crossover_point:]\n",
        "    offspring2 = parent2[:crossover_point] + parent1[crossover_point:]\n",
        "\n",
        "    # Ensure the offspring are valid paths\n",
        "    offspring1 = [city for city in cities if city in offspring1]\n",
        "    offspring2 = [city for city in cities if city in offspring2]\n",
        "\n",
        "    return offspring1, offspring2\n",
        "\n",
        "#Function to generate strongest child by mutating offsprings/children. \n",
        "def mutate(path, mutation_rate):\n",
        "    \"\"\"\n",
        "    Mutate a path by swapping two cities with a given probability.\n",
        "    \n",
        "    :param path: The path to mutate.\n",
        "    :param mutation_rate: The probability of mutating a given gene.\n",
        "    :return: The mutated path.\n",
        "    \"\"\"\n",
        "    mutated_path = path.copy()\n",
        "    for i in range(len(mutated_path)):\n",
        "        if random.random() < mutation_rate:\n",
        "            swap_index = random.randint(0, len(mutated_path) - 1)\n",
        "            # Swap the cities at i and swap_index\n",
        "            mutated_path[i], mutated_path[swap_index] = mutated_path[swap_index], mutated_path[i]\n",
        "    return mutated_path\n",
        "\n",
        "# Example usage\n",
        "# current_city = 'Panaji'\n",
        "# successors = transition_model(current_city, graph)\n",
        "# print(f\"Successors from {current_city}: {successors}\")\n"
      ]
    },
    {
      "cell_type": "code",
      "execution_count": 5,
      "metadata": {
        "id": "HIVPhrRWF7sO"
      },
      "outputs": [],
      "source": [
        "#Code block : Write fucntion to handle goal test (Must handle dynamic inputs). Ideally this would be called while search algorithms are implemented\n",
        "\n",
        "# Goal Test Function for GBFS\n",
        "def is_goal_reached(current_city, goal):\n",
        "    \"\"\"\n",
        "    Test if the current city is the goal.\n",
        "\n",
        "    :param current_city: The current city\n",
        "    :param goal: The goal city\n",
        "    :return: True if the current city is the goal, False otherwise\n",
        "    \"\"\"\n",
        "    return current_city == goal\n",
        "\n",
        "#Goal test for genetic algorithm.\n",
        "def is_goal_reached_for_ga(path, goal_city):\n",
        "    \"\"\"\n",
        "    Check if the goal city has been reached in the given path.\n",
        "    \n",
        "    :param path: A list representing the path taken, with each element being a city name.\n",
        "    :param goal_city: The goal city name as a string.\n",
        "    :return: True if the goal city is the last city in the path, False otherwise.\n",
        "    \"\"\"\n",
        "    # Check if the last city in the path is the goal city\n",
        "    return path[-1] == goal_city\n"
      ]
    },
    {
      "cell_type": "markdown",
      "metadata": {
        "id": "Z4QwDeX5F7sO"
      },
      "source": [
        "### 2.\tDefinition of Algorithm 1 (Greedy BFS)"
      ]
    },
    {
      "cell_type": "code",
      "execution_count": 6,
      "metadata": {
        "id": "zD_EPCHWF7sO"
      },
      "outputs": [],
      "source": [
        "#Code Block : Function for algorithm 1 implementation\n",
        "\n",
        "\n",
        "import heapq\n",
        "\n",
        "# Modify the Greedy Best First Search Algorithm to include total cost\n",
        "def greedy_best_first_search(graph, heuristics,initial_state):\n",
        "    \"\"\"\n",
        "    Starts the GBFS algorithm using parameters defined in the initial state.\n",
        "\n",
        "    :param graph: The graph of the problem.\n",
        "    :param heuristics: Heuristic values for each city.\n",
        "    :param initial_state: A dictionary containing the initial state parameters.\n",
        "    :return: The results of the search.\n",
        "    \"\"\"\n",
        "    start = initial_state['start_city']\n",
        "    goal = initial_state['end_city']\n",
        "\n",
        "    # Priority queue for the frontier cities, ordered by heuristic value\n",
        "    frontier = []\n",
        "    heapq.heappush(frontier, (heuristics[start], 0, start))  # includes current cost as 0\n",
        "\n",
        "    # Dictionary to keep track of the path that led to each city\n",
        "    came_from = {start: None}\n",
        "\n",
        "    # Dictionary to keep track of the cost to reach each city\n",
        "    cost_so_far = {start: 0}\n",
        "\n",
        "    # The set of explored cities to avoid revisiting them\n",
        "    explored = set()\n",
        "\n",
        "    # Counters for nodes and edges explored\n",
        "    nodes_explored = 0\n",
        "    edges_explored = 0\n",
        "\n",
        "    # GBFS loop\n",
        "    while frontier:\n",
        "        # Choose the city with the lowest heuristic value\n",
        "        _, current_cost, current_city = heapq.heappop(frontier)\n",
        "\n",
        "        nodes_explored += 1  # Increment nodes explored when a node is popped from the frontier\n",
        "\n",
        "        if current_city == goal:\n",
        "            return reconstruct_path(came_from, start, goal), current_cost, nodes_explored, edges_explored\n",
        "\n",
        "        # Mark the city as explored\n",
        "        explored.add(current_city)\n",
        "\n",
        "        successors = transition_model(current_city, graph)\n",
        "\n",
        "        # Add neighboring cities to the frontier if they haven't been explored or\n",
        "        # if a cheaper path to them has been found\n",
        "        # Use the transition_model function to get successors and their costs\n",
        "        for neighbor, distance in successors:\n",
        "            edges_explored += 1  # Increment edges explored for each neighbor examined\n",
        "            new_cost = current_cost + distance\n",
        "            if neighbor not in cost_so_far or new_cost < cost_so_far[neighbor]:\n",
        "                cost_so_far[neighbor] = new_cost\n",
        "                heapq.heappush(frontier, (heuristics[neighbor], new_cost, neighbor))\n",
        "                came_from[neighbor] = current_city\n",
        "\n",
        "\n",
        "    # If the goal was never reached, return None\n",
        "    return None, None,nodes_explored, edges_explored\n"
      ]
    },
    {
      "cell_type": "markdown",
      "metadata": {
        "id": "KnbdDl6HF7sO"
      },
      "source": [
        "### 3.\tDefinition of Algorithm 2 (Genetic)"
      ]
    },
    {
      "cell_type": "code",
      "execution_count": 7,
      "metadata": {
        "id": "3HYh7-eJF7sP"
      },
      "outputs": [],
      "source": [
        "#Code Block : Function for algorithm 2 implementation\n",
        "\n",
        "import random\n",
        "\n",
        "def genetic_algorithm(cities, distances, population_size, generations, crossover_rate, mutation_rate, goal_city, start_city,graph,number_of_elites=1):\n",
        "    \"\"\"\n",
        "    Implements a Genetic Algorithm with elitism to find the most optimal path to the goal city.\n",
        "    \n",
        "    :param cities: List of all cities in the problem.\n",
        "    :param distances: Dictionary with distances between each pair of cities.\n",
        "    :param population_size: Number of paths in each generation.\n",
        "    :param generations: Maximum number of generations to evolve.\n",
        "    :param crossover_rate: Probability of applying crossover.\n",
        "    :param mutation_rate: Probability of applying mutation.\n",
        "    :param goal_city: The destination city for the pathfinding problem.\n",
        "    :param start_city: The start city for the pathfinding problem.\n",
        "    :param graph: The map connetions between all cities.\n",
        "    :param number_of_elites: The number of top individuals to carry over directly to the next generation.\n",
        "    :return: The most optimal path found and its distance.\n",
        "    \"\"\"\n",
        "    # Initialize the population\n",
        "    population = set_initial_state_for_ga(start_city, goal_city, graph, population_size)\n",
        "    # print(\"initial population \",population)\n",
        "    best_path = None\n",
        "    best_fitness = 0\n",
        "    \n",
        "    for generation in range(generations):\n",
        "        # Evaluate the fitness of each individual in the population\n",
        "        fitness_scores = [fitness_function(path, distances) for path in population]\n",
        "    \n",
        "        # Preserve the top individuals as elites\n",
        "        elites_indices = sorted(range(len(fitness_scores)), key=lambda i: fitness_scores[i], reverse=True)[:number_of_elites]\n",
        "        elites = [population[i] for i in elites_indices]\n",
        "        \n",
        "        # Selection (excluding elites if they are not to be mutated)\n",
        "        parents = selection(population, fitness_scores, len(population) // 2)\n",
        "        \n",
        "        # Adjusting the parent list to ensure an even number for crossover\n",
        "        if len(parents) % 2 != 0:\n",
        "            # Remove the last parent if the count is odd\n",
        "            parents.pop()\n",
        "        \n",
        "        # Crossover and Mutation\n",
        "        offspring = []\n",
        "       \n",
        "        for _ in range(0, len(parents), 2):\n",
        "            if random.random() < crossover_rate:\n",
        "                child1, child2 = crossover(parents[_], parents[_+1], cities)\n",
        "            else:\n",
        "                child1, child2 = parents[_], parents[_+1]\n",
        "\n",
        "            child1 = mutate(child1, mutation_rate)\n",
        "            child2 = mutate(child2, mutation_rate)\n",
        "\n",
        "            if not is_path_valid(child1, graph):\n",
        "                child1 = repair_path(child1, start_city, goal_city, graph)\n",
        "            if not is_path_valid(child2, graph):\n",
        "                child2 = repair_path(child2, start_city, goal_city, graph)\n",
        "\n",
        "            offspring.extend([child1, child2])\n",
        "        \n",
        "        # Combine elites with offspring to form the new generation\n",
        "        new_population = elites + offspring[:population_size - len(elites)]\n",
        "        population = new_population\n",
        "        \n",
        "        # Update best path if a new best is found\n",
        "        for elite in elites:\n",
        "            elite_fitness = fitness_function(elite, distances)\n",
        "            if is_goal_reached_for_ga(elite, goal_city) and elite_fitness > best_fitness:\n",
        "                best_path = elite\n",
        "                best_fitness = elite_fitness\n",
        "        \n",
        "        # print(f\"Generation {generation + 1}: Best Path Distance = {1 / best_fitness if best_fitness else 'Not found'}\")\n",
        "    \n",
        "    return best_path, 1 / best_fitness if best_fitness else None"
      ]
    },
    {
      "cell_type": "markdown",
      "metadata": {
        "id": "LEV2XHccF7sP"
      },
      "source": [
        "### DYNAMIC INPUT"
      ]
    },
    {
      "cell_type": "markdown",
      "metadata": {
        "id": "CylYRo_DF7sP"
      },
      "source": [
        "IMPORTANT : Dynamic Input must be got in this section. Display the possible states to choose from:\n",
        "This is applicable for all the relevent problems as mentioned in the question."
      ]
    },
    {
      "cell_type": "code",
      "execution_count": 8,
      "metadata": {
        "id": "Q5t1Lc-wF7sP"
      },
      "outputs": [],
      "source": [
        "#Code Block : Function & call to get inputs (start/end state)\n",
        "import time \n",
        "def get_start_end_states(cities):\n",
        "    \"\"\"\n",
        "    Prompt the user to select the start and end states for the journey by number instead of typing names.\n",
        "\n",
        "    :param cities: A list of available cities.\n",
        "    :return: A tuple containing the start and end states.\n",
        "    \"\"\"\n",
        "    # Display cities with numbers\n",
        "    for i, city in enumerate(cities, 1):\n",
        "        print(f\"{i}. {city}\")\n",
        "\n",
        "    \n",
        "    time.sleep(2)\n",
        "\n",
        "    while True:\n",
        "        try:\n",
        "            start_index = int(input(\"Select the number for the start city: \")) - 1\n",
        "            if start_index not in range(len(cities)):\n",
        "                print(\"Invalid selection. Please select a number from the list.\")\n",
        "                continue\n",
        "\n",
        "            end_index = int(input(\"Select the number for the destination city: \")) - 1\n",
        "            if end_index not in range(len(cities)):\n",
        "                print(\"Invalid selection. Please select a number from the list.\")\n",
        "                continue\n",
        "\n",
        "            if start_index == end_index:\n",
        "                print(\"Start and destination cities cannot be the same. Please select different cities.\")\n",
        "                continue\n",
        "\n",
        "            start = cities[start_index]\n",
        "            end = cities[end_index]\n",
        "\n",
        "            return start, end\n",
        "        except ValueError:\n",
        "            print(\"Invalid input. Please enter a number.\")\n",
        "\n",
        "\n",
        "# Call the function to get start and end states\n",
        "# start_city, end_city = get_start_end_states(cities_list)\n",
        "# print(f\"Starting from: {start_city}, Destination: {end_city}\")\n"
      ]
    },
    {
      "cell_type": "markdown",
      "metadata": {
        "id": "xsfOP81lF7sP"
      },
      "source": [
        "### 4.\tCalling the search algorithms\n",
        "(For bidirectional search in below sections first part can be used as per Hint provided. Under second section other combinations as per Hint or your choice of 2 algorithms can be called .As an analyst suggest suitable approximation in the comparitive analysis section)"
      ]
    },
    {
      "cell_type": "code",
      "execution_count": 9,
      "metadata": {
        "id": "Og5zI9thF7sP",
        "outputId": "d5507160-ee2c-4b08-c709-e273df9abfd9"
      },
      "outputs": [
        {
          "name": "stdout",
          "output_type": "stream",
          "text": [
            "1. Panaji\n",
            "2. Raichur\n",
            "3. Mangalore\n",
            "4. Bellari\n",
            "5. Tirupathi\n",
            "6. Kurnool\n",
            "7. Kozhikode\n",
            "8. Bangalore\n",
            "9. Nellore\n",
            "10. Chennai\n"
          ]
        },
        {
          "name": "stdout",
          "output_type": "stream",
          "text": [
            "Panaji -> Raichur -> Tirupathi -> Chennai\n",
            "Total cost: 1063 km\n"
          ]
        }
      ],
      "source": [
        "#Invoke algorithm 1 (Should Print the solution, path, cost etc., (As mentioned in the problem))\n",
        "\n",
        "# Call the function to get start and end states\n",
        "start_city, end_city = get_start_end_states(cities_list)\n",
        "\n",
        "# Prepare initial state\n",
        "initial_state = set_initial_state(start_city, end_city)\n",
        "# time & space of gbfs\n",
        "import time\n",
        "start_time = time.perf_counter()\n",
        "# Implement GBFS with cost\n",
        "path_gbfs, total_cost_gbfs, node_explored,edge_explored = greedy_best_first_search(graph, get_heuristics(end_city),initial_state)\n",
        "end_time = time.perf_counter()\n",
        "\n",
        "\n",
        "# Display the path and total cost if a path was found\n",
        "if path_gbfs:\n",
        "    display_path_beautifully(path_gbfs)\n",
        "    print(f\"Total cost: {total_cost_gbfs} km\")\n",
        "\n",
        "else:\n",
        "    print(\"No path found from Panaji to Chennai using GBFS.\")\n"
      ]
    },
    {
      "cell_type": "code",
      "execution_count": 10,
      "metadata": {
        "id": "u3MJeA6eF7sP"
      },
      "outputs": [
        {
          "name": "stdout",
          "output_type": "stream",
          "text": [
            "1. Panaji\n",
            "2. Raichur\n",
            "3. Mangalore\n",
            "4. Bellari\n",
            "5. Tirupathi\n",
            "6. Kurnool\n",
            "7. Kozhikode\n",
            "8. Bangalore\n",
            "9. Nellore\n",
            "10. Chennai\n",
            "Solution Found from Genetic Algorithm:\n",
            "Path: Panaji -> Raichur -> Kurnool -> Nellore -> Chennai\n",
            "Cost (Total Distance): 1057.0 km\n"
          ]
        }
      ],
      "source": [
        "#Invoke algorithm 2 (Should Print the solution, path, cost etc., (As mentioned in the problem))\n",
        "\n",
        "start_city, goal_city = get_start_end_states(cities_list)\n",
        "import time\n",
        "start_time_ga = time.perf_counter()\n",
        "population_size = 200\n",
        "\n",
        "generations = 100\n",
        "crossover_rate = 0.8\n",
        "mutation_rate = 0.2\n",
        "\n",
        "# Invoke the Genetic Algorithm\n",
        "best_path, best_distance = genetic_algorithm(cities_list, distances, population_size, generations, crossover_rate, mutation_rate, goal_city, start_city,graph)\n",
        "end_time_ga = time.perf_counter()\n",
        "# Print the solution\n",
        "if best_path and best_distance:\n",
        "    print(f\"Solution Found from Genetic Algorithm:\\nPath: {' -> '.join(best_path)}\\nCost (Total Distance): {best_distance} km\")\n",
        "else:\n",
        "    print(\"No solution found within the given constraints.\")"
      ]
    },
    {
      "cell_type": "markdown",
      "metadata": {
        "id": "TOU3Rem6F7sQ"
      },
      "source": [
        "### 5.\tComparitive Analysis"
      ]
    },
    {
      "cell_type": "code",
      "execution_count": 11,
      "metadata": {
        "id": "HG6fWwiIF7sQ",
        "outputId": "21205b8c-f845-433d-d5b3-fa876b102108"
      },
      "outputs": [
        {
          "name": "stdout",
          "output_type": "stream",
          "text": [
            "Average Branching Factor: 2.6\n",
            "Estimated Time Complexity & Space Complexity for GBFS from Panaji to Chennai:\n",
            "Space Complexity O(b^d): 45.69760000000001\n",
            "Time complexity : 0.000107 seconds\n"
          ]
        }
      ],
      "source": [
        "#Code Block : Print the Time & Space complexity of algorithm 1\n",
        "\n",
        "def calculate_average_branching_factor(graph):\n",
        "    total_successors = sum(len(neighbors) for neighbors in graph.values())\n",
        "    num_nodes = len(graph)\n",
        "    return total_successors / num_nodes\n",
        "average_branching_factor = calculate_average_branching_factor(graph)\n",
        "print(\"Average Branching Factor:\", average_branching_factor)\n",
        "\n",
        "space_complexity = pow(average_branching_factor,node_explored)\n",
        "print(f\"Estimated Time Complexity & Space Complexity for GBFS from {initial_state['start_city']} to {initial_state['end_city']}:\")\n",
        "print(f\"Space Complexity O(b^d): {space_complexity}\")\n",
        "print(\"Time complexity : %.6f seconds\" % (end_time - start_time))\n",
        "\n"
      ]
    },
    {
      "cell_type": "code",
      "execution_count": 12,
      "metadata": {
        "id": "xMButLKCF7sQ"
      },
      "outputs": [
        {
          "name": "stdout",
          "output_type": "stream",
          "text": [
            "Estimated Time Complexity & Space Complexity for Genetic Algorithm from Panaji to Chennai:\n",
            "Space Complexity O(b^d): 2000\n",
            "Time complexity : 0.002009 seconds\n"
          ]
        }
      ],
      "source": [
        "#Code Block : Print the Time & Space complexity of algorithm 2\n",
        "# The dominating terms in the space complexity are from the population size and number of cities.\n",
        "\n",
        "print(f\"Estimated Time Complexity & Space Complexity for Genetic Algorithm from {start_city} to {goal_city}:\")\n",
        "print(f\"Space Complexity O(b^d): {population_size * len(cities_list)}\")\n",
        "print(\"Time complexity : %.6f seconds\" % (end_time_ga - start_time_ga))"
      ]
    },
    {
      "cell_type": "markdown",
      "metadata": {
        "id": "y2nXwAlsF7sQ"
      },
      "source": [
        "### 6.\tProvide your comparitive analysis or findings in no more than 3 lines in below section"
      ]
    },
    {
      "cell_type": "markdown",
      "metadata": {
        "id": "si483-zoF7sQ"
      },
      "source": [
        "Comparison : GBFS vs Genetic Algorithm\n",
        "\n",
        "1. <b>Optimality</b>: GBFS may not always find the optimal solution, especially if the heuristic function is not accurate or the search space is complex. On the other hand, GA has the potential to find better solutions through evolutionary processes but may take longer to converge.<br>\n",
        "GBFS --> Panaji -> Raichur -> Tirupathi -> Chennai | Total cost: 1063 km <br>\n",
        "GA -->   Panaji -> Raichur -> Kurnool -> Nellore -> Chennai | Total Cost : 1057.0 km\n",
        "2. <b>Efficiency</b>: GBFS is generally more efficient in terms of time complexity for finding a single shortest path, but it may not perform well in complex search spaces or when the heuristic function is not well-suited. GA, although slower, can explore a larger portion of the search space and potentially find better solutions.\n",
        "GBFS - Time complexity : 0.000112 seconds vs GA - Time complexity : 0.002497 seconds\n",
        "3. <b>Resource Usage</b>: GBFS typically requires less memory compared to GA, as it only needs to store information about the search frontier and the explored nodes. GA, on the other hand, requires storing a population of potential solutions, which can consume more memory."
      ]
    }
  ],
  "metadata": {
    "colab": {
      "include_colab_link": true,
      "provenance": []
    },
    "kernelspec": {
      "display_name": "Python 3 (ipykernel)",
      "language": "python",
      "name": "python3"
    },
    "language_info": {
      "codemirror_mode": {
        "name": "ipython",
        "version": 3
      },
      "file_extension": ".py",
      "mimetype": "text/x-python",
      "name": "python",
      "nbconvert_exporter": "python",
      "pygments_lexer": "ipython3",
      "version": "3.11.5"
    }
  },
  "nbformat": 4,
  "nbformat_minor": 0
}
