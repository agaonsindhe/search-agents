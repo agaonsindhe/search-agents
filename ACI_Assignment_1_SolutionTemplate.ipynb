{
  "cells": [
    {
      "cell_type": "markdown",
      "metadata": {
        "id": "view-in-github",
        "colab_type": "text"
      },
      "source": [
        "<a href=\"https://colab.research.google.com/github/agaonsindhe/search-agents/blob/main/ACI_Assignment_1_SolutionTemplate.ipynb\" target=\"_parent\"><img src=\"https://colab.research.google.com/assets/colab-badge.svg\" alt=\"Open In Colab\"/></a>"
      ]
    },
    {
      "cell_type": "markdown",
      "metadata": {
        "id": "MzZ4dJQYF7sH"
      },
      "source": [
        "# Artificial and Computational Intelligence Assignment 1"
      ]
    },
    {
      "cell_type": "markdown",
      "metadata": {
        "id": "Fxb1aE9zF7sK"
      },
      "source": [
        "## Problem solving by Uninformed & Informed Search"
      ]
    },
    {
      "cell_type": "markdown",
      "metadata": {
        "id": "h35jIBbCF7sK"
      },
      "source": [
        "List only the BITS (Name) of active contributors in this assignment:\n",
        "1. ___________________\n",
        "2. __________________\n",
        "3. ____________________\n",
        "4. ___________________\n",
        "5. ___________________"
      ]
    },
    {
      "cell_type": "markdown",
      "metadata": {
        "id": "pt5ygv_zF7sL"
      },
      "source": [
        "Things to follow\n",
        "1.\tUse appropriate data structures to represent the graph and the path using python libraries\n",
        "2.\tProvide proper documentation\n",
        "3.\tFind the path and print it"
      ]
    },
    {
      "cell_type": "markdown",
      "metadata": {
        "id": "wZfop5ElF7sL"
      },
      "source": [
        "Coding begins here"
      ]
    },
    {
      "cell_type": "markdown",
      "metadata": {
        "id": "IL0QDMy3F7sL"
      },
      "source": [
        "### 1.\tDefine the environment in the following block"
      ]
    },
    {
      "cell_type": "markdown",
      "metadata": {
        "id": "RYwJPNLIF7sM"
      },
      "source": [
        "List the PEAS decription of the problem here in this markdown block"
      ]
    },
    {
      "cell_type": "markdown",
      "metadata": {
        "id": "XJ3cHp1IF7sM"
      },
      "source": [
        "Design the agent as PSA Agent(Problem Solving Agent)\n",
        "Clear Initial data structures to define the graph and variable declarations is expected\n",
        "IMPORTATANT: Write distinct code block as below"
      ]
    },
    {
      "cell_type": "code",
      "execution_count": null,
      "metadata": {
        "id": "osp61RsLF7sN",
        "scrolled": true,
        "outputId": "c79bd312-a1d0-45a2-8c50-5ded66c63872"
      },
      "outputs": [
        {
          "name": "stdout",
          "output_type": "stream",
          "text": [
            "{'start_city': 'Panaji', 'end_city': 'Chennai'}\n"
          ]
        }
      ],
      "source": [
        "#Code Block : Set Initial State (Must handle dynamic inputs)\n",
        "import math\n",
        "from queue import PriorityQueue\n",
        "def set_initial_state(start_city=None, end_city=None):\n",
        "    \"\"\"\n",
        "    Sets the initial state for the traveling problem with dynamic inputs.\n",
        "\n",
        "    :param start_city: The starting city for the travel.\n",
        "    :param end_city: The destination city for the travel.\n",
        "    :param kwargs: Additional parameters such as current location's latitude and longitude.\n",
        "    :return: A dictionary representing the initial state of the problem.\n",
        "    \"\"\"\n",
        "    initial_state = {\n",
        "        'start_city': start_city,\n",
        "        'end_city': end_city,\n",
        "    }\n",
        "\n",
        "    return initial_state\n",
        "\n",
        "# Example usage\n",
        "initial_state = set_initial_state(start_city='Panaji', end_city='Chennai')\n",
        "print(initial_state)\n"
      ]
    },
    {
      "cell_type": "code",
      "execution_count": null,
      "metadata": {
        "id": "XODwoWZ0F7sO",
        "outputId": "bcd39fb5-4779-4743-b07e-258e10c498e9"
      },
      "outputs": [
        {
          "data": {
            "text/html": [
              "<div>\n",
              "<style scoped>\n",
              "    .dataframe tbody tr th:only-of-type {\n",
              "        vertical-align: middle;\n",
              "    }\n",
              "\n",
              "    .dataframe tbody tr th {\n",
              "        vertical-align: top;\n",
              "    }\n",
              "\n",
              "    .dataframe thead th {\n",
              "        text-align: right;\n",
              "    }\n",
              "</style>\n",
              "<table border=\"1\" class=\"dataframe\">\n",
              "  <thead>\n",
              "    <tr style=\"text-align: right;\">\n",
              "      <th></th>\n",
              "      <th>Panaji</th>\n",
              "      <th>Raichur</th>\n",
              "      <th>Mangalore</th>\n",
              "      <th>Bellari</th>\n",
              "      <th>Tirupati</th>\n",
              "      <th>Kurnool</th>\n",
              "      <th>Kozhikode</th>\n",
              "      <th>Bangalore</th>\n",
              "      <th>Nellore</th>\n",
              "      <th>Chennai</th>\n",
              "    </tr>\n",
              "  </thead>\n",
              "  <tbody>\n",
              "    <tr>\n",
              "      <th>Panaji</th>\n",
              "      <td>0.000000</td>\n",
              "      <td>384.703347</td>\n",
              "      <td>307.213146</td>\n",
              "      <td>334.067476</td>\n",
              "      <td>636.349903</td>\n",
              "      <td>452.250193</td>\n",
              "      <td>515.797860</td>\n",
              "      <td>493.225615</td>\n",
              "      <td>671.742877</td>\n",
              "      <td>744.035156</td>\n",
              "    </tr>\n",
              "    <tr>\n",
              "      <th>Raichur</th>\n",
              "      <td>384.703347</td>\n",
              "      <td>0.000000</td>\n",
              "      <td>453.789435</td>\n",
              "      <td>127.191089</td>\n",
              "      <td>363.073048</td>\n",
              "      <td>85.058151</td>\n",
              "      <td>575.671548</td>\n",
              "      <td>360.817146</td>\n",
              "      <td>344.493606</td>\n",
              "      <td>468.709079</td>\n",
              "    </tr>\n",
              "    <tr>\n",
              "      <th>Mangalore</th>\n",
              "      <td>307.213146</td>\n",
              "      <td>453.789435</td>\n",
              "      <td>0.000000</td>\n",
              "      <td>332.965424</td>\n",
              "      <td>500.196520</td>\n",
              "      <td>471.576519</td>\n",
              "      <td>209.713852</td>\n",
              "      <td>296.849250</td>\n",
              "      <td>579.748933</td>\n",
              "      <td>586.947676</td>\n",
              "    </tr>\n",
              "    <tr>\n",
              "      <th>Bellari</th>\n",
              "      <td>334.067476</td>\n",
              "      <td>127.191089</td>\n",
              "      <td>332.965424</td>\n",
              "      <td>0.000000</td>\n",
              "      <td>317.157600</td>\n",
              "      <td>141.997819</td>\n",
              "      <td>448.826986</td>\n",
              "      <td>251.746981</td>\n",
              "      <td>338.511264</td>\n",
              "      <td>427.479325</td>\n",
              "    </tr>\n",
              "    <tr>\n",
              "      <th>Tirupati</th>\n",
              "      <td>636.349903</td>\n",
              "      <td>363.073048</td>\n",
              "      <td>500.196520</td>\n",
              "      <td>317.157600</td>\n",
              "      <td>0.000000</td>\n",
              "      <td>286.159311</td>\n",
              "      <td>474.903874</td>\n",
              "      <td>210.532503</td>\n",
              "      <td>109.240956</td>\n",
              "      <td>110.334415</td>\n",
              "    </tr>\n",
              "    <tr>\n",
              "      <th>Kurnool</th>\n",
              "      <td>452.250193</td>\n",
              "      <td>85.058151</td>\n",
              "      <td>471.576519</td>\n",
              "      <td>141.997819</td>\n",
              "      <td>286.159311</td>\n",
              "      <td>0.000000</td>\n",
              "      <td>563.591889</td>\n",
              "      <td>321.186102</td>\n",
              "      <td>259.819051</td>\n",
              "      <td>388.599829</td>\n",
              "    </tr>\n",
              "    <tr>\n",
              "      <th>Kozhikode</th>\n",
              "      <td>515.797860</td>\n",
              "      <td>575.671548</td>\n",
              "      <td>209.713852</td>\n",
              "      <td>448.826986</td>\n",
              "      <td>474.903874</td>\n",
              "      <td>563.591889</td>\n",
              "      <td>0.000000</td>\n",
              "      <td>274.174956</td>\n",
              "      <td>577.222190</td>\n",
              "      <td>528.508520</td>\n",
              "    </tr>\n",
              "    <tr>\n",
              "      <th>Bangalore</th>\n",
              "      <td>493.225615</td>\n",
              "      <td>360.817146</td>\n",
              "      <td>296.849250</td>\n",
              "      <td>251.746981</td>\n",
              "      <td>210.532503</td>\n",
              "      <td>321.186102</td>\n",
              "      <td>274.174956</td>\n",
              "      <td>0.000000</td>\n",
              "      <td>305.804085</td>\n",
              "      <td>290.172025</td>\n",
              "    </tr>\n",
              "    <tr>\n",
              "      <th>Nellore</th>\n",
              "      <td>671.742877</td>\n",
              "      <td>344.493606</td>\n",
              "      <td>579.748933</td>\n",
              "      <td>338.511264</td>\n",
              "      <td>109.240956</td>\n",
              "      <td>259.819051</td>\n",
              "      <td>577.222190</td>\n",
              "      <td>305.804085</td>\n",
              "      <td>0.000000</td>\n",
              "      <td>154.297621</td>\n",
              "    </tr>\n",
              "    <tr>\n",
              "      <th>Chennai</th>\n",
              "      <td>744.035156</td>\n",
              "      <td>468.709079</td>\n",
              "      <td>586.947676</td>\n",
              "      <td>427.479325</td>\n",
              "      <td>110.334415</td>\n",
              "      <td>388.599829</td>\n",
              "      <td>528.508520</td>\n",
              "      <td>290.172025</td>\n",
              "      <td>154.297621</td>\n",
              "      <td>0.000000</td>\n",
              "    </tr>\n",
              "  </tbody>\n",
              "</table>\n",
              "</div>"
            ],
            "text/plain": [
              "               Panaji     Raichur   Mangalore     Bellari    Tirupati  \\\n",
              "Panaji       0.000000  384.703347  307.213146  334.067476  636.349903   \n",
              "Raichur    384.703347    0.000000  453.789435  127.191089  363.073048   \n",
              "Mangalore  307.213146  453.789435    0.000000  332.965424  500.196520   \n",
              "Bellari    334.067476  127.191089  332.965424    0.000000  317.157600   \n",
              "Tirupati   636.349903  363.073048  500.196520  317.157600    0.000000   \n",
              "Kurnool    452.250193   85.058151  471.576519  141.997819  286.159311   \n",
              "Kozhikode  515.797860  575.671548  209.713852  448.826986  474.903874   \n",
              "Bangalore  493.225615  360.817146  296.849250  251.746981  210.532503   \n",
              "Nellore    671.742877  344.493606  579.748933  338.511264  109.240956   \n",
              "Chennai    744.035156  468.709079  586.947676  427.479325  110.334415   \n",
              "\n",
              "              Kurnool   Kozhikode   Bangalore     Nellore     Chennai  \n",
              "Panaji     452.250193  515.797860  493.225615  671.742877  744.035156  \n",
              "Raichur     85.058151  575.671548  360.817146  344.493606  468.709079  \n",
              "Mangalore  471.576519  209.713852  296.849250  579.748933  586.947676  \n",
              "Bellari    141.997819  448.826986  251.746981  338.511264  427.479325  \n",
              "Tirupati   286.159311  474.903874  210.532503  109.240956  110.334415  \n",
              "Kurnool      0.000000  563.591889  321.186102  259.819051  388.599829  \n",
              "Kozhikode  563.591889    0.000000  274.174956  577.222190  528.508520  \n",
              "Bangalore  321.186102  274.174956    0.000000  305.804085  290.172025  \n",
              "Nellore    259.819051  577.222190  305.804085    0.000000  154.297621  \n",
              "Chennai    388.599829  528.508520  290.172025  154.297621    0.000000  "
            ]
          },
          "execution_count": 111,
          "metadata": {},
          "output_type": "execute_result"
        }
      ],
      "source": [
        "#Code Block : Set the matrix for transition & cost (as relevant for the given problem)\n",
        "\n",
        "import math\n",
        "\n",
        "cities_info = {\n",
        "    \"Panaji\": (15.4909,73.8278),\n",
        "    \"Raichur\": (16.2076,77.3463),\n",
        "    \"Mangalore\": (12.9141,74.8560),\n",
        "    \"Bellari\": (15.1394,76.9214),\n",
        "    \"Tirupati\": (13.6288, 79.4192),\n",
        "    \"Kurnool\": (15.8281,78.0373),\n",
        "    \"Kozhikode\": (11.2588,75.7804),\n",
        "    \"Bangalore\": (12.9716,77.5946),\n",
        "    \"Nellore\": (14.4426,79.9865),\n",
        "    \"Chennai\":(13.0827,80.2707)\n",
        "    # Add other cities here with their lat, long\n",
        "}\n",
        "\n",
        "\n",
        "def haversine(lat1, lon1, lat2, lon2):\n",
        "    \"\"\"\n",
        "    Calculate the great circle distance in kilometers between two points\n",
        "    on the earth (specified in decimal degrees)\n",
        "    \"\"\"\n",
        "    # Convert decimal degrees to radians\n",
        "    lat1, lon1, lat2, lon2 = map(math.radians, [lat1, lon1, lat2, lon2])\n",
        "\n",
        "    # Haversine formula\n",
        "    dlon = lon2 - lon1\n",
        "    dlat = lat2 - lat1\n",
        "    a = math.sin(dlat/2)**2 + math.cos(lat1) * math.cos(lat2) * math.sin(dlon/2)**2\n",
        "    c = 2 * math.asin(math.sqrt(a))\n",
        "    r = 6371 # Radius of earth in kilometers. Use 3956 for miles\n",
        "    return c * r\n",
        "\n",
        "def set_transition_and_cost_matrix(cities_info):\n",
        "    \"\"\"\n",
        "    Initializes a matrix/dictionary representing the graph of cities with the cost of travel between them.\n",
        "\n",
        "    :param cities_info: A dictionary with city names as keys and their lat, long as values.\n",
        "    :return: A dictionary of dictionaries representing the distances between cities.\n",
        "    \"\"\"\n",
        "    matrix = {}\n",
        "    for city, (lat1, lon1) in cities_info.items():\n",
        "        matrix[city] = {}\n",
        "        for destination, (lat2, lon2) in cities_info.items():\n",
        "            if city != destination: # Avoid distance to itself\n",
        "                distance = haversine(lat1, lon1, lat2, lon2)\n",
        "                matrix[city][destination] = distance\n",
        "    return matrix\n",
        "\n",
        "def get_heuristics(goal_city):\n",
        "    heuristics = {}\n",
        "    for k in cities_info.keys():\n",
        "        distance = haversine(*cities_info[k],*cities_info[goal_city])\n",
        "        heuristics[k]= distance\n",
        "    return heuristics\n",
        "\n",
        "transition_cost_matrix = set_transition_and_cost_matrix(cities_info)\n",
        "\n",
        "import pandas as pd\n",
        "# Convert to DataFrame for pretty printing\n",
        "matrix_df = pd.DataFrame(transition_cost_matrix)\n",
        "\n",
        "# Fill diagonal with 0s for clarity (no distance to itself)\n",
        "for city in cities_info:\n",
        "    if city in matrix_df.index:\n",
        "        matrix_df.loc[city, city] = 0\n",
        "\n",
        "matrix_df_reordered = matrix_df.reindex(index=cities_info, columns=cities_info)\n",
        "\n",
        "matrix_df_reordered\n",
        "\n",
        "# her = get_heuristics(\"Chennai\")\n",
        "\n",
        "# print(matrix_df_reordered,\" \",get_heuristics(\"Chennai\"))\n"
      ]
    },
    {
      "cell_type": "code",
      "execution_count": null,
      "metadata": {
        "id": "ji4euP2gzi1-",
        "outputId": "a161712b-2733-426e-c8c0-f2e43b3aa8e9"
      },
      "outputs": [
        {
          "name": "stdout",
          "output_type": "stream",
          "text": [
            "Panaji -> Raichur -> Kurnool -> Chennai\n"
          ]
        }
      ],
      "source": [
        "# Function to reconstruct the path from the start node to the goal node\n",
        "\n",
        "def reconstruct_path(came_from, start, goal):\n",
        "    \"\"\"\n",
        "    Reconstructs the path from start to goal using the came_from dictionary.\n",
        "\n",
        "    :param came_from: A dictionary containing the parent of each node\n",
        "    :param start: The starting city\n",
        "    :param goal: The goal city\n",
        "    :return: A list of cities representing the path from the start to the goal\n",
        "    \"\"\"\n",
        "    current = goal\n",
        "    path = [current]\n",
        "    while current != start:\n",
        "        current = came_from[current]\n",
        "        path.append(current)\n",
        "    path.reverse()  # reverse the path to get the correct order from start to goal\n",
        "    return path\n",
        "\n",
        "# Example usage:\n",
        "came_from_example = {'Raichur': 'Panaji', 'Kurnool': 'Raichur', 'Chennai': 'Kurnool'}\n",
        "start_city = 'Panaji'\n",
        "goal_city = 'Chennai'\n",
        "reconstructed_path = reconstruct_path(came_from_example, start_city, goal_city)\n",
        "\n",
        "# Function to display the path beautifully\n",
        "def display_path_beautifully(path):\n",
        "    \"\"\"\n",
        "    Displays the path in a structured textual representation.\n",
        "\n",
        "    :param path: A list of cities representing the path from the start to the goal\n",
        "    \"\"\"\n",
        "    for i in range(len(path)):\n",
        "        if i == len(path) - 1:  # if it's the last city, just print the city\n",
        "            print(path[i])\n",
        "        else:  # otherwise, print the city and an arrow\n",
        "            print(f\"{path[i]} -> \", end=\"\")\n",
        "\n",
        "# Display the path\n",
        "display_path_beautifully(reconstructed_path)"
      ]
    },
    {
      "cell_type": "code",
      "execution_count": null,
      "metadata": {
        "id": "ro24Gaj7F7sO",
        "outputId": "f1171dc8-924c-4540-f4f9-72322918dd56"
      },
      "outputs": [
        {
          "name": "stdout",
          "output_type": "stream",
          "text": [
            "Successors from Panaji: [('Mangalore', 365), ('Raichur', 457)]\n"
          ]
        }
      ],
      "source": [
        "#Code Block : Write function to design the Transition Model/Successor function. Ideally this would be called while search algorithms are implemented\n",
        "\n",
        "# State change function\n",
        "\n",
        "def transition_model(current_city, graph):\n",
        "    \"\"\"\n",
        "    Returns the successor states from the current city, along with the cost to reach each successor.\n",
        "\n",
        "    :param current_city: The current city (state).\n",
        "    :param graph: A dictionary representing the graph of cities, where keys are city names, and values are dictionaries\n",
        "                  of neighboring cities and the distances to them.\n",
        "    :return: A list of tuples, where each tuple contains a successor city and the cost to reach it.\n",
        "    \"\"\"\n",
        "    successors = []\n",
        "    if current_city in graph:\n",
        "        for neighbor, cost in graph[current_city].items():\n",
        "            successors.append((neighbor, cost))\n",
        "    return successors\n",
        "\n",
        "graph = {\n",
        "    \"Panaji\": {\"Mangalore\": 365 , \"Raichur\": 457},\n",
        "    \"Mangalore\": {\"Panaji\": 365, \"Bangalore\": 352, \"Kozhikode\": 233},\n",
        "    \"Bangalore\": {\"Mangalore\": 352, \"Kozhikode\": 356, \"Bellari\": 153, \"Chennai\": 346},\n",
        "    \"Kozhikode\": {\"Mangalore\": 233, \"Bangalore\": 356},\n",
        "    \"Tirupati\": {\"Bellari\": 379, \"Raichur\": 453, \"Chennai\": 153},\n",
        "    \"Nellore\": {\"Kurnool\": 325, \"Chennai\": 175},\n",
        "    \"Chennai\": {\"Tirupati\": 153, \"Nellore\": 175,\"Bangalore\": 346},\n",
        "    \"Raichur\": {\"Panaji\": 457,\"Tirupati\": 453,\"Kurnool\": 100},\n",
        "    \"Bellari\": {\"Bangalore\": 153,\"Tirupati\": 379},\n",
        "    \"Kurnool\": {\"Nellore\": 325,\"Raichur\": 100}\n",
        "}\n",
        "\n",
        "# Example usage\n",
        "current_city = 'Panaji'\n",
        "successors = transition_model(current_city, graph)\n",
        "print(f\"Successors from {current_city}: {successors}\")\n"
      ]
    },
    {
      "cell_type": "code",
      "execution_count": null,
      "metadata": {
        "id": "HIVPhrRWF7sO"
      },
      "outputs": [],
      "source": [
        "#Code block : Write fucntion to handle goal test (Must handle dynamic inputs). Ideally this would be called while search algorithms are implemented\n",
        "\n",
        "#goaltest\n",
        "\n",
        "# Goal Test Function\n",
        "def is_goal_reached(current_city, goal):\n",
        "    \"\"\"\n",
        "    Test if the current city is the goal.\n",
        "\n",
        "    :param current_city: The current city\n",
        "    :param goal: The goal city\n",
        "    :return: True if the current city is the goal, False otherwise\n",
        "    \"\"\"\n",
        "    return current_city == goal"
      ]
    },
    {
      "cell_type": "markdown",
      "metadata": {
        "id": "Z4QwDeX5F7sO"
      },
      "source": [
        "### 2.\tDefinition of Algorithm 1 (Greedy BFS)"
      ]
    },
    {
      "cell_type": "code",
      "execution_count": null,
      "metadata": {
        "id": "zD_EPCHWF7sO"
      },
      "outputs": [],
      "source": [
        "#Code Block : Function for algorithm 1 implementation\n",
        "\n",
        "\n",
        "import heapq\n",
        "\n",
        "# Modify the Greedy Best First Search Algorithm to include total cost\n",
        "def greedy_best_first_search(graph, heuristics,initial_state):\n",
        "    \"\"\"\n",
        "    Starts the GBFS algorithm using parameters defined in the initial state.\n",
        "\n",
        "    :param graph: The graph of the problem.\n",
        "    :param heuristics: Heuristic values for each city.\n",
        "    :param initial_state: A dictionary containing the initial state parameters.\n",
        "    :return: The results of the search.\n",
        "    \"\"\"\n",
        "    start = initial_state['start_city']\n",
        "    goal = initial_state['end_city']\n",
        "\n",
        "    # Priority queue for the frontier cities, ordered by heuristic value\n",
        "    frontier = []\n",
        "    heapq.heappush(frontier, (heuristics[start], 0, start))  # includes current cost as 0\n",
        "\n",
        "    # Dictionary to keep track of the path that led to each city\n",
        "    came_from = {start: None}\n",
        "\n",
        "    # Dictionary to keep track of the cost to reach each city\n",
        "    cost_so_far = {start: 0}\n",
        "\n",
        "    # The set of explored cities to avoid revisiting them\n",
        "    explored = set()\n",
        "\n",
        "    # Counters for nodes and edges explored\n",
        "    nodes_explored = 0\n",
        "    edges_explored = 0\n",
        "\n",
        "    # GBFS loop\n",
        "    while frontier:\n",
        "        # Choose the city with the lowest heuristic value\n",
        "        _, current_cost, current_city = heapq.heappop(frontier)\n",
        "\n",
        "        nodes_explored += 1  # Increment nodes explored when a node is popped from the frontier\n",
        "\n",
        "        if current_city == goal:\n",
        "            return reconstruct_path(came_from, start, goal), current_cost, nodes_explored, edges_explored\n",
        "\n",
        "        # Mark the city as explored\n",
        "        explored.add(current_city)\n",
        "\n",
        "        successors = transition_model(current_city, graph)\n",
        "\n",
        "        # Add neighboring cities to the frontier if they haven't been explored or\n",
        "        # if a cheaper path to them has been found\n",
        "        # Use the transition_model function to get successors and their costs\n",
        "        for neighbor, distance in transition_model(current_city, graph):\n",
        "            edges_explored += 1  # Increment edges explored for each neighbor examined\n",
        "            new_cost = current_cost + distance\n",
        "            if neighbor not in cost_so_far or new_cost < cost_so_far[neighbor]:\n",
        "                cost_so_far[neighbor] = new_cost\n",
        "                heapq.heappush(frontier, (heuristics[neighbor], new_cost, neighbor))\n",
        "                came_from[neighbor] = current_city\n",
        "\n",
        "\n",
        "    # If the goal was never reached, return None\n",
        "    return None, None,nodes_explored, edges_explored\n"
      ]
    },
    {
      "cell_type": "markdown",
      "metadata": {
        "id": "KnbdDl6HF7sO"
      },
      "source": [
        "### 3.\tDefinition of Algorithm 2 (Genetic)"
      ]
    },
    {
      "cell_type": "code",
      "execution_count": null,
      "metadata": {
        "id": "3HYh7-eJF7sP"
      },
      "outputs": [],
      "source": [
        "#Code Block : Function for algorithm 2 implementation\n",
        "\n",
        "#genetic"
      ]
    },
    {
      "cell_type": "markdown",
      "metadata": {
        "id": "LEV2XHccF7sP"
      },
      "source": [
        "### DYNAMIC INPUT"
      ]
    },
    {
      "cell_type": "markdown",
      "metadata": {
        "id": "CylYRo_DF7sP"
      },
      "source": [
        "IMPORTANT : Dynamic Input must be got in this section. Display the possible states to choose from:\n",
        "This is applicable for all the relevent problems as mentioned in the question."
      ]
    },
    {
      "cell_type": "code",
      "execution_count": null,
      "metadata": {
        "id": "Q5t1Lc-wF7sP"
      },
      "outputs": [],
      "source": [
        "#Code Block : Function & call to get inputs (start/end state)\n",
        "\n",
        "def get_start_end_states(cities):\n",
        "    \"\"\"\n",
        "    Prompt the user to select the start and end states for the journey by number instead of typing names.\n",
        "\n",
        "    :param cities: A list of available cities.\n",
        "    :return: A tuple containing the start and end states.\n",
        "    \"\"\"\n",
        "    # Display cities with numbers\n",
        "    for i, city in enumerate(cities, 1):\n",
        "        print(f\"{i}. {city}\")\n",
        "\n",
        "    while True:\n",
        "        try:\n",
        "            start_index = int(input(\"Select the number for the start city: \")) - 1\n",
        "            if start_index not in range(len(cities)):\n",
        "                print(\"Invalid selection. Please select a number from the list.\")\n",
        "                continue\n",
        "\n",
        "            end_index = int(input(\"Select the number for the destination city: \")) - 1\n",
        "            if end_index not in range(len(cities)):\n",
        "                print(\"Invalid selection. Please select a number from the list.\")\n",
        "                continue\n",
        "\n",
        "            if start_index == end_index:\n",
        "                print(\"Start and destination cities cannot be the same. Please select different cities.\")\n",
        "                continue\n",
        "\n",
        "            start = cities[start_index]\n",
        "            end = cities[end_index]\n",
        "\n",
        "            return start, end\n",
        "        except ValueError:\n",
        "            print(\"Invalid input. Please enter a number.\")\n",
        "\n",
        "# Assuming a list of cities based on the given problem\n",
        "cities_list = [\"Panaji\", \"Raichur\", \"Mangalore\", \"Bellari\", \"Tirupati\", \"Kurnool\", \"Kozhikode\", \"Bangalore\", \"Nellore\", \"Chennai\"]\n",
        "\n",
        "# Call the function to get start and end states\n",
        "# start_city, end_city = get_start_end_states(cities_list)\n",
        "# print(f\"Starting from: {start_city}, Destination: {end_city}\")\n"
      ]
    },
    {
      "cell_type": "markdown",
      "metadata": {
        "id": "xsfOP81lF7sP"
      },
      "source": [
        "### 4.\tCalling the search algorithms\n",
        "(For bidirectional search in below sections first part can be used as per Hint provided. Under second section other combinations as per Hint or your choice of 2 algorithms can be called .As an analyst suggest suitable approximation in the comparitive analysis section)"
      ]
    },
    {
      "cell_type": "code",
      "execution_count": null,
      "metadata": {
        "id": "Og5zI9thF7sP",
        "outputId": "d5507160-ee2c-4b08-c709-e273df9abfd9"
      },
      "outputs": [
        {
          "name": "stdout",
          "output_type": "stream",
          "text": [
            "1. Panaji\n",
            "2. Raichur\n",
            "3. Mangalore\n",
            "4. Bellari\n",
            "5. Tirupati\n",
            "6. Kurnool\n",
            "7. Kozhikode\n",
            "8. Bangalore\n",
            "9. Nellore\n",
            "10. Chennai\n",
            "Select the number for the start city: 1\n",
            "Select the number for the destination city: 10\n",
            "Panaji -> Raichur -> Tirupati -> Chennai\n",
            "Total cost: 1063 km\n"
          ]
        }
      ],
      "source": [
        "#Invoke algorithm 1 (Should Print the solution, path, cost etc., (As mentioned in the problem))\n",
        "\n",
        "# Call the function to get start and end states\n",
        "start_city, end_city = get_start_end_states(cities_list)\n",
        "\n",
        "# Prepare initial state\n",
        "initial_state = set_initial_state(start_city, end_city)\n",
        "\n",
        "# Implement GBFS with cost\n",
        "path_gbfs, total_cost_gbfs, node_explored,edge_explored = greedy_best_first_search(graph, get_heuristics(end_city),initial_state)\n",
        "\n",
        "\n",
        "# Display the path and total cost if a path was found\n",
        "if path_gbfs:\n",
        "    display_path_beautifully(path_gbfs)\n",
        "    print(f\"Total cost: {total_cost_gbfs} km\")\n",
        "else:\n",
        "    print(\"No path found from Panaji to Chennai using GBFS.\")\n",
        ""
      ]
    },
    {
      "cell_type": "code",
      "execution_count": null,
      "metadata": {
        "id": "u3MJeA6eF7sP"
      },
      "outputs": [],
      "source": [
        "#Invoke algorithm 2 (Should Print the solution, path, cost etc., (As mentioned in the problem))\n",
        "\n",
        "#genetic returning tuple for outputs"
      ]
    },
    {
      "cell_type": "markdown",
      "metadata": {
        "id": "TOU3Rem6F7sQ"
      },
      "source": [
        "### 5.\tComparitive Analysis"
      ]
    },
    {
      "cell_type": "code",
      "execution_count": null,
      "metadata": {
        "id": "HG6fWwiIF7sQ",
        "outputId": "21205b8c-f845-433d-d5b3-fa876b102108"
      },
      "outputs": [
        {
          "name": "stdout",
          "output_type": "stream",
          "text": [
            "Estimated Time Complexity & Space Complexity for GBFS from Panaji to Chennai:\n",
            "Space Complexity : O(4)\n",
            "Time complexity: 0.000099 seconds\n"
          ]
        }
      ],
      "source": [
        "#Code Block : Print the Time & Space complexity of algorithm 1\n",
        "\n",
        "# time & space of gbfs\n",
        "import time\n",
        "start_time = time.perf_counter()\n",
        "# Implement GBFS with cost\n",
        "path_gbfs, total_cost_gbfs, node_explored,edge_explored = greedy_best_first_search(graph, get_heuristics(end_city),initial_state)\n",
        "end_time = time.perf_counter()\n",
        "print(f\"Estimated Time Complexity & Space Complexity for GBFS from {initial_state['start_city']} to {initial_state['end_city']}:\")\n",
        "print(f\"Space Complexity : O({node_explored})\")\n",
        "print(\"Time complexity: %.6f seconds\" % (end_time - start_time))\n",
        "\n"
      ]
    },
    {
      "cell_type": "code",
      "execution_count": null,
      "metadata": {
        "id": "xMButLKCF7sQ"
      },
      "outputs": [],
      "source": [
        "#Code Block : Print the Time & Space complexity of algorithm 2"
      ]
    },
    {
      "cell_type": "markdown",
      "metadata": {
        "id": "y2nXwAlsF7sQ"
      },
      "source": [
        "### 6.\tProvide your comparitive analysis or findings in no more than 3 lines in below section"
      ]
    },
    {
      "cell_type": "markdown",
      "metadata": {
        "id": "si483-zoF7sQ"
      },
      "source": [
        "Comparison : _______________________________________________\n",
        "\n",
        "________________________________________________________\n",
        "\n",
        "_________________________________________________________"
      ]
    }
  ],
  "metadata": {
    "colab": {
      "provenance": [],
      "include_colab_link": true
    },
    "kernelspec": {
      "display_name": "Python 3 (ipykernel)",
      "language": "python",
      "name": "python3"
    },
    "language_info": {
      "codemirror_mode": {
        "name": "ipython",
        "version": 3
      },
      "file_extension": ".py",
      "mimetype": "text/x-python",
      "name": "python",
      "nbconvert_exporter": "python",
      "pygments_lexer": "ipython3",
      "version": "3.11.5"
    }
  },
  "nbformat": 4,
  "nbformat_minor": 0
}